{
 "cells": [
  {
   "cell_type": "code",
   "execution_count": 1,
   "metadata": {},
   "outputs": [
    {
     "name": "stdout",
     "output_type": "stream",
     "text": [
      "WARNING:tensorflow:From c:\\anaconda3\\Lib\\site-packages\\keras\\src\\losses.py:2976: The name tf.losses.sparse_softmax_cross_entropy is deprecated. Please use tf.compat.v1.losses.sparse_softmax_cross_entropy instead.\n",
      "\n"
     ]
    }
   ],
   "source": [
    "import os\n",
    "import pandas as pd\n",
    "import numpy as np\n",
    "import seaborn as sns\n",
    "import matplotlib.pyplot as plt\n",
    "from sklearn.preprocessing import MinMaxScaler\n",
    "from sklearn.metrics import mean_squared_error\n",
    "from matplotlib import pyplot\n",
    "import tensorflow as tf\n",
    "import keras\n",
    "from keras.models import Sequential\n",
    "from keras.layers import Dense\n",
    "from keras.layers import Flatten\n",
    "from keras.layers import LSTM\n",
    "from keras.layers import RepeatVector\n",
    "from keras.layers import TimeDistributed\n",
    "from keras.layers import Conv1D\n",
    "from keras.layers import MaxPooling1D\n",
    "from keras.layers import Attention\n",
    "from keras.layers import Lambda"
   ]
  },
  {
   "cell_type": "code",
   "execution_count": 3,
   "metadata": {},
   "outputs": [],
   "source": [
    "def get_data_frame():\n",
    "    current_folder = os.getcwd()\n",
    "    file_path = os.path.join(current_folder,'..' ,'resource', 'RSMC_Best_Track_Data.csv')\n",
    "    df = pd.read_csv(file_path)\n",
    "\n",
    "    # ---------------------------\n",
    "\n",
    "    direction_30_mapping = {'(symmetric circle)': 1, 'Northeast (NE)': 6, 'South (S)': 3,\n",
    "                            'East (E)': 5, 'Southeast (SE)': 9, 'West (W)': 4, 'North (N)': 2,\n",
    "                            'Northwest (NW)': 6, 'Southwest (SW)': 8}\n",
    "    df['Direction of the longest radius of 30kt winds or greater'] = df[\n",
    "        'Direction of the longest radius of 30kt winds or greater'].map(direction_30_mapping)\n",
    "\n",
    "    direction_50_mapping = {'(symmetric circle)': 1, 'Northeast (NE)': 6, 'South (S)': 3,\n",
    "                            'East (E)': 5, 'Southeast (SE)': 9, 'West (W)': 4, 'North (N)': 2,\n",
    "                            'Northwest (NW)': 6, 'Southwest (SW)': 8,\n",
    "                            'No direction (Longest radius of 50kt winds is 0)': 9}\n",
    "    df['Direction of the longest radius of 50kt winds or greater'] = df[\n",
    "        'Direction of the longest radius of 50kt winds or greater'].map(direction_50_mapping)\n",
    "\n",
    "    indicator_mapping = {'#': 1, ' ': 0}\n",
    "    df['Indicator of landfall or passage'] = df['Indicator of landfall or passage'].map(indicator_mapping)\n",
    "\n",
    "    # ----------------------\n",
    "\n",
    "    df = df.drop(['International number ID', 'Name of the storm', 'Grade'], axis=1)\n",
    "    # columns_to_check = [\n",
    "    #     'Direction of the longest radius of 50kt winds or greater',\n",
    "    #     'The longest radius of 50kt winds or greater',\n",
    "    #     'The shortest radius of 50kt winds or greater',\n",
    "    #     'Direction of the longest radius of 30kt winds or greater',\n",
    "    #     'The longest radius of 30kt winds or greater',\n",
    "    #     'The shortest radius of 30kt winds or greater'\n",
    "    # ]\n",
    "    # df = df.dropna(subset=columns_to_check)\n",
    "    \n",
    "    df = df.fillna(0)\n",
    "\n",
    "    # -----------------------\n",
    "\n",
    "    one_hot_encoded = pd.get_dummies(df['Direction of the longest radius of 50kt winds or greater'],\n",
    "                                     prefix='Direction of the longest radius of 50kt winds or greater', dtype=int)\n",
    "    df = pd.concat([df, one_hot_encoded], axis=1)\n",
    "\n",
    "    one_hot_encoded2 = pd.get_dummies(df['Direction of the longest radius of 30kt winds or greater'],\n",
    "                                      prefix='Direction of the longest radius of 30kt winds or greater', dtype=int)\n",
    "    df = pd.concat([df, one_hot_encoded2], axis=1)\n",
    "    df = df.drop(['Direction of the longest radius of 50kt winds or greater',\n",
    "                  'Direction of the longest radius of 30kt winds or greater'], axis=1)\n",
    "\n",
    "    # ----------------------\n",
    "\n",
    "    df['Time of analysis'] = pd.to_datetime(df['Time of analysis'])\n",
    "    df['Time of analysis'] = df['Time of analysis'].apply(lambda x: x.timestamp())\n",
    "\n",
    "    # -----------------------\n",
    "    return df"
   ]
  },
  {
   "cell_type": "code",
   "execution_count": 7,
   "metadata": {},
   "outputs": [],
   "source": [
    "def min_max_scaler():\n",
    "    \n",
    "    df = get_data_frame()\n",
    "    \n",
    "    columns_to_normalize = df.columns[:]\n",
    "\n",
    "    # 实例化 MinMaxScaler\n",
    "    scaler = MinMaxScaler()\n",
    "\n",
    "    # 对选择的列进行归一化\n",
    "    df[columns_to_normalize] = scaler.fit_transform(df[columns_to_normalize])\n",
    "\n",
    "    # 打印处理后的新 DataFrame 的信息\n",
    "    df.tail()\n",
    "\n",
    "    return df"
   ]
  },
  {
   "cell_type": "code",
   "execution_count": 8,
   "metadata": {},
   "outputs": [],
   "source": [
    "def split_data():\n",
    "    df = min_max_scaler()\n",
    "    split_index = int(0.7 * len(df))\n",
    "\n",
    "    # 分割DataFrame\n",
    "    train_set = df.iloc[:split_index, :]\n",
    "    test_set = df.iloc[split_index:, :]\n",
    "\n",
    "    train_x = train_set.drop([\"Latitude of the center\", \"Longitude of the center\"], axis=1)\n",
    "    train_y = train_set.loc[:, [\"Latitude of the center\", \"Longitude of the center\"]]\n",
    "    test_x = test_set.drop([\"Latitude of the center\", \"Longitude of the center\"], axis=1)\n",
    "    test_y = test_set.loc[:, [\"Latitude of the center\", \"Longitude of the center\"]]\n",
    "    # 给训练集的标签打上时间序列\n",
    "    first_column = train_x.iloc[:, 0]\n",
    "    train_y.insert(0, 'Time of analysis', first_column)\n",
    "    \n",
    "\n",
    "    return train_x, train_y, test_x, test_y\n"
   ]
  },
  {
   "cell_type": "code",
   "execution_count": 9,
   "metadata": {},
   "outputs": [
    {
     "data": {
      "text/html": [
       "<div>\n",
       "<style scoped>\n",
       "    .dataframe tbody tr th:only-of-type {\n",
       "        vertical-align: middle;\n",
       "    }\n",
       "\n",
       "    .dataframe tbody tr th {\n",
       "        vertical-align: top;\n",
       "    }\n",
       "\n",
       "    .dataframe thead th {\n",
       "        text-align: right;\n",
       "    }\n",
       "</style>\n",
       "<table border=\"1\" class=\"dataframe\">\n",
       "  <thead>\n",
       "    <tr style=\"text-align: right;\">\n",
       "      <th></th>\n",
       "      <th>Time of analysis</th>\n",
       "      <th>Latitude of the center</th>\n",
       "      <th>Longitude of the center</th>\n",
       "    </tr>\n",
       "  </thead>\n",
       "  <tbody>\n",
       "    <tr>\n",
       "      <th>0</th>\n",
       "      <td>0.000000</td>\n",
       "      <td>0.275148</td>\n",
       "      <td>0.467742</td>\n",
       "    </tr>\n",
       "    <tr>\n",
       "      <th>1</th>\n",
       "      <td>0.000009</td>\n",
       "      <td>0.275148</td>\n",
       "      <td>0.467742</td>\n",
       "    </tr>\n",
       "    <tr>\n",
       "      <th>2</th>\n",
       "      <td>0.000019</td>\n",
       "      <td>0.319527</td>\n",
       "      <td>0.506452</td>\n",
       "    </tr>\n",
       "    <tr>\n",
       "      <th>3</th>\n",
       "      <td>0.000028</td>\n",
       "      <td>0.349112</td>\n",
       "      <td>0.548387</td>\n",
       "    </tr>\n",
       "    <tr>\n",
       "      <th>4</th>\n",
       "      <td>0.000038</td>\n",
       "      <td>0.387574</td>\n",
       "      <td>0.597849</td>\n",
       "    </tr>\n",
       "  </tbody>\n",
       "</table>\n",
       "</div>"
      ],
      "text/plain": [
       "   Time of analysis  Latitude of the center  Longitude of the center\n",
       "0          0.000000                0.275148                 0.467742\n",
       "1          0.000009                0.275148                 0.467742\n",
       "2          0.000019                0.319527                 0.506452\n",
       "3          0.000028                0.349112                 0.548387\n",
       "4          0.000038                0.387574                 0.597849"
      ]
     },
     "execution_count": 9,
     "metadata": {},
     "output_type": "execute_result"
    }
   ],
   "source": [
    "df = min_max_scaler()\n",
    "x_train, y_train, text_x, test_y = split_data()\n",
    "y_train.head()"
   ]
  },
  {
   "cell_type": "code",
   "execution_count": 34,
   "metadata": {},
   "outputs": [
    {
     "name": "stdout",
     "output_type": "stream",
     "text": [
      "Epoch 1/20\n",
      "963/963 [==============================] - 10s 9ms/step - loss: 0.0223\n",
      "Epoch 2/20\n",
      "963/963 [==============================] - 8s 8ms/step - loss: 0.0194\n",
      "Epoch 3/20\n",
      "963/963 [==============================] - 8s 8ms/step - loss: 0.0187\n",
      "Epoch 4/20\n",
      "963/963 [==============================] - 8s 8ms/step - loss: 0.0182\n",
      "Epoch 5/20\n",
      "963/963 [==============================] - 8s 8ms/step - loss: 0.0179\n",
      "Epoch 6/20\n",
      "963/963 [==============================] - 8s 8ms/step - loss: 0.0178\n",
      "Epoch 7/20\n",
      "963/963 [==============================] - 8s 8ms/step - loss: 0.0177\n",
      "Epoch 8/20\n",
      "963/963 [==============================] - 8s 8ms/step - loss: 0.0177\n",
      "Epoch 9/20\n",
      "963/963 [==============================] - 8s 9ms/step - loss: 0.0176\n",
      "Epoch 10/20\n",
      "963/963 [==============================] - 8s 9ms/step - loss: 0.0176\n",
      "Epoch 11/20\n",
      "963/963 [==============================] - 8s 8ms/step - loss: 0.0175\n",
      "Epoch 12/20\n",
      "963/963 [==============================] - 8s 8ms/step - loss: 0.0175\n",
      "Epoch 13/20\n",
      "963/963 [==============================] - 8s 9ms/step - loss: 0.0175\n",
      "Epoch 14/20\n",
      "963/963 [==============================] - 9s 9ms/step - loss: 0.0174\n",
      "Epoch 15/20\n",
      "963/963 [==============================] - 9s 9ms/step - loss: 0.0174\n",
      "Epoch 16/20\n",
      "963/963 [==============================] - 8s 9ms/step - loss: 0.0174\n",
      "Epoch 17/20\n",
      "963/963 [==============================] - 9s 9ms/step - loss: 0.0173\n",
      "Epoch 18/20\n",
      "963/963 [==============================] - 8s 8ms/step - loss: 0.0173\n",
      "Epoch 19/20\n",
      "963/963 [==============================] - 8s 8ms/step - loss: 0.0173\n",
      "Epoch 20/20\n",
      "963/963 [==============================] - 8s 9ms/step - loss: 0.0173\n"
     ]
    },
    {
     "data": {
      "text/plain": [
       "<keras.src.callbacks.History at 0x19e87b90990>"
      ]
     },
     "execution_count": 34,
     "metadata": {},
     "output_type": "execute_result"
    }
   ],
   "source": [
    "verbose, epochs, batch_size = 1, 20, 50\n",
    "\n",
    "# Assuming x_train and y_train have shapes: (samples, features) for both x_train and y_train\n",
    "n_features_x, n_outputs_x = x_train.shape[1], y_train.shape[1]\n",
    "n_features_y = y_train.shape[1]\n",
    "\n",
    "# reshape output into [samples, features]\n",
    "y_train_reshaped = y_train.values.reshape((y_train.shape[0], y_train.shape[1], 1))\n",
    "\n",
    "# define model\n",
    "model = Sequential()\n",
    "model.add(Conv1D(filters=64, kernel_size=3, activation='relu', input_shape=(n_features_x, 1)))\n",
    "model.add(Conv1D(filters=64, kernel_size=3, activation='relu'))\n",
    "model.add(MaxPooling1D(pool_size=2))\n",
    "model.add(Flatten())\n",
    "model.add(RepeatVector(n_outputs_x))\n",
    "model.add(LSTM(200, activation='relu', return_sequences=True))\n",
    "model.add(TimeDistributed(Dense(100, activation='relu')))\n",
    "model.add(TimeDistributed(Dense(1)))  # Adjust the number of units to match the number of features in the output\n",
    "model.compile(loss='mse', optimizer='adam')\n",
    "\n",
    "# fit network\n",
    "model.fit(x_train.values, y_train_reshaped, epochs=epochs, batch_size=batch_size, verbose=verbose)"
   ]
  },
  {
   "cell_type": "code",
   "execution_count": 23,
   "metadata": {},
   "outputs": [],
   "source": [
    "test_head_y = test_y.loc[text_x.index[-20:-10]]\n",
    "\n",
    "test_head_x = text_x.loc[text_x.index[-20:-10]]\n",
    "\n",
    "test_tail_y = test_y.loc[text_x.index[-15:]]\n",
    "\n",
    "test_tail_x = text_x.loc[text_x.index[-15:]]"
   ]
  },
  {
   "cell_type": "code",
   "execution_count": 15,
   "metadata": {},
   "outputs": [],
   "source": [
    "test_head_y = test_y.loc[text_x.index[-1000:-995]]\n",
    "\n",
    "test_head_x = text_x.loc[text_x.index[-1000:-995]]\n",
    "\n",
    "test_tail_y = test_y.loc[text_x.index[-995:-990]]\n",
    "\n",
    "test_tail_x = text_x.loc[text_x.index[-995:-990]]"
   ]
  },
  {
   "cell_type": "code",
   "execution_count": 36,
   "metadata": {},
   "outputs": [
    {
     "name": "stdout",
     "output_type": "stream",
     "text": [
      "1/1 [==============================] - 0s 27ms/step\n"
     ]
    },
    {
     "data": {
      "image/png": "[encoded data removed]",
      "text/plain": [
       "<Figure size 640x480 with 1 Axes>"
      ]
     },
     "metadata": {},
     "output_type": "display_data"
    }
   ],
   "source": [
    "testPredict = model.predict(test_head_x)\n",
    "\n",
    "#test_head\n",
    "plt.plot(test_head_y['Longitude of the center'], test_head_y['Latitude of the center'], color='blue', marker='o')\n",
    "#test_tail\n",
    "plt.plot(test_tail_y['Longitude of the center'], test_tail_y['Latitude of the center'], color = 'green', marker='o')\n",
    "#predict\n",
    "plt.plot(testPredict[:, 2], testPredict[:, 1], label='numpy_array', color='red', marker='o')\n",
    "\n",
    "\n",
    "\n",
    "# 设置图表标题和轴标签\n",
    "plt.title('Track Sample')\n",
    "plt.xlabel('Longitude')\n",
    "plt.ylabel('Latitude')\n",
    "\n",
    "# 显示图表\n",
    "plt.show()"
   ]
  }
 ],
 "metadata": {
  "kernelspec": {
   "display_name": "base",
   "language": "python",
   "name": "python3"
  },
  "language_info": {
   "codemirror_mode": {
    "name": "ipython",
    "version": 3
   },
   "file_extension": ".py",
   "mimetype": "text/x-python",
   "name": "python",
   "nbconvert_exporter": "python",
   "pygments_lexer": "ipython3",
   "version": "3.11.5"
  }
 },
 "nbformat": 4,
 "nbformat_minor": 2
}
