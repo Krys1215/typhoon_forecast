{
 "cells": [
  {
   "cell_type": "code",
   "execution_count": 1,
   "metadata": {},
   "outputs": [],
   "source": [
    "import os\n",
    "import numpy as np\n",
    "import pandas as pd"
   ]
  },
  {
   "cell_type": "code",
   "execution_count": 2,
   "metadata": {},
   "outputs": [],
   "source": [
    "def get_data_frame():\n",
    "    current_folder = os.getcwd()\n",
    "    file_path = os.path.join(current_folder,'..' ,'resource', 'RSMC_Best_Track_Data.csv')\n",
    "    df = pd.read_csv(file_path)\n",
    "\n",
    "    # ---------------------------\n",
    "\n",
    "    direction_30_mapping = {'(symmetric circle)': 1, 'Northeast (NE)': 6, 'South (S)': 3,\n",
    "                            'East (E)': 5, 'Southeast (SE)': 9, 'West (W)': 4, 'North (N)': 2,\n",
    "                            'Northwest (NW)': 6, 'Southwest (SW)': 8}\n",
    "    df['Direction of the longest radius of 30kt winds or greater'] = df[\n",
    "        'Direction of the longest radius of 30kt winds or greater'].map(direction_30_mapping)\n",
    "\n",
    "    direction_50_mapping = {'(symmetric circle)': 1, 'Northeast (NE)': 6, 'South (S)': 3,\n",
    "                            'East (E)': 5, 'Southeast (SE)': 9, 'West (W)': 4, 'North (N)': 2,\n",
    "                            'Northwest (NW)': 6, 'Southwest (SW)': 8,\n",
    "                            'No direction (Longest radius of 50kt winds is 0)': 9}\n",
    "    df['Direction of the longest radius of 50kt winds or greater'] = df[\n",
    "        'Direction of the longest radius of 50kt winds or greater'].map(direction_50_mapping)\n",
    "\n",
    "    indicator_mapping = {'#': 1, ' ': 0}\n",
    "    df['Indicator of landfall or passage'] = df['Indicator of landfall or passage'].map(indicator_mapping)\n",
    "\n",
    "    # ----------------------\n",
    "\n",
    "    df = df.drop(['International number ID', 'Name of the storm', 'Grade'], axis=1)\n",
    "    columns_to_check = [\n",
    "        'Direction of the longest radius of 50kt winds or greater',\n",
    "        'The longest radius of 50kt winds or greater',\n",
    "        'The shortest radius of 50kt winds or greater',\n",
    "        'Direction of the longest radius of 30kt winds or greater',\n",
    "        'The longest radius of 30kt winds or greater',\n",
    "        'The shortest radius of 30kt winds or greater'\n",
    "    ]\n",
    "    df = df.dropna(subset=columns_to_check)\n",
    "\n",
    "    # -----------------------\n",
    "\n",
    "    one_hot_encoded = pd.get_dummies(df['Direction of the longest radius of 50kt winds or greater'],\n",
    "                                     prefix='Direction of the longest radius of 50kt winds or greater', dtype=int)\n",
    "    df = pd.concat([df, one_hot_encoded], axis=1)\n",
    "\n",
    "    one_hot_encoded2 = pd.get_dummies(df['Direction of the longest radius of 30kt winds or greater'],\n",
    "                                      prefix='Direction of the longest radius of 30kt winds or greater', dtype=int)\n",
    "    df = pd.concat([df, one_hot_encoded2], axis=1)\n",
    "    df = df.drop(['Direction of the longest radius of 50kt winds or greater',\n",
    "                  'Direction of the longest radius of 30kt winds or greater'], axis=1)\n",
    "\n",
    "    # ----------------------\n",
    "\n",
    "    df['Time of analysis'] = pd.to_datetime(df['Time of analysis'])\n",
    "    df['Time of analysis'] = df['Time of analysis'].apply(lambda x: x.timestamp())\n",
    "\n",
    "    # -----------------------\n",
    "    return df"
   ]
  },
  {
   "cell_type": "code",
   "execution_count": 3,
   "metadata": {},
   "outputs": [
    {
     "name": "stdout",
     "output_type": "stream",
     "text": [
      "<class 'pandas.core.frame.DataFrame'>\n",
      "Index: 27299 entries, 25272 to 68731\n",
      "Data columns (total 26 columns):\n",
      " #   Column                                                        Non-Null Count  Dtype  \n",
      "---  ------                                                        --------------  -----  \n",
      " 0   Time of analysis                                              27299 non-null  float64\n",
      " 1   Latitude of the center                                        27299 non-null  float64\n",
      " 2   Longitude of the center                                       27299 non-null  float64\n",
      " 3   Central pressure                                              27299 non-null  int64  \n",
      " 4   Maximum sustained wind speed                                  27299 non-null  float64\n",
      " 5   The longest radius of 50kt winds or greater                   27299 non-null  float64\n",
      " 6   The shortest radius of 50kt winds or greater                  27299 non-null  float64\n",
      " 7   The longest radius of 30kt winds or greater                   27299 non-null  float64\n",
      " 8   The shortest radius of 30kt winds or greater                  27299 non-null  float64\n",
      " 9   Indicator of landfall or passage                              27299 non-null  int64  \n",
      " 10  Direction of the longest radius of 50kt winds or greater_1.0  27299 non-null  int32  \n",
      " 11  Direction of the longest radius of 50kt winds or greater_2.0  27299 non-null  int32  \n",
      " 12  Direction of the longest radius of 50kt winds or greater_3.0  27299 non-null  int32  \n",
      " 13  Direction of the longest radius of 50kt winds or greater_4.0  27299 non-null  int32  \n",
      " 14  Direction of the longest radius of 50kt winds or greater_5.0  27299 non-null  int32  \n",
      " 15  Direction of the longest radius of 50kt winds or greater_6.0  27299 non-null  int32  \n",
      " 16  Direction of the longest radius of 50kt winds or greater_8.0  27299 non-null  int32  \n",
      " 17  Direction of the longest radius of 50kt winds or greater_9.0  27299 non-null  int32  \n",
      " 18  Direction of the longest radius of 30kt winds or greater_1.0  27299 non-null  int32  \n",
      " 19  Direction of the longest radius of 30kt winds or greater_2.0  27299 non-null  int32  \n",
      " 20  Direction of the longest radius of 30kt winds or greater_3.0  27299 non-null  int32  \n",
      " 21  Direction of the longest radius of 30kt winds or greater_4.0  27299 non-null  int32  \n",
      " 22  Direction of the longest radius of 30kt winds or greater_5.0  27299 non-null  int32  \n",
      " 23  Direction of the longest radius of 30kt winds or greater_6.0  27299 non-null  int32  \n",
      " 24  Direction of the longest radius of 30kt winds or greater_8.0  27299 non-null  int32  \n",
      " 25  Direction of the longest radius of 30kt winds or greater_9.0  27299 non-null  int32  \n",
      "dtypes: float64(8), int32(16), int64(2)\n",
      "memory usage: 4.0 MB\n"
     ]
    }
   ],
   "source": [
    "df = get_data_frame()\n",
    "df.info()"
   ]
  },
  {
   "cell_type": "code",
   "execution_count": 4,
   "metadata": {},
   "outputs": [
    {
     "name": "stdout",
     "output_type": "stream",
     "text": [
      "max lat: 50.0\n",
      "min lat: 1.5\n",
      "max long: 182.3\n",
      "min long: 97.5\n"
     ]
    }
   ],
   "source": [
    "max_lat = df['Latitude of the center'].max()\n",
    "min_lat = df['Latitude of the center'].min()\n",
    "\n",
    "\n",
    "max_long = df['Longitude of the center'].max()\n",
    "min_long = df['Longitude of the center'].min()\n",
    "\n",
    "print(f\"max lat: {max_lat}\")\n",
    "print(f\"min lat: {min_lat}\")\n",
    "print(f\"max long: {max_long}\")\n",
    "print(f\"min long: {min_long}\")"
   ]
  },
  {
   "cell_type": "code",
   "execution_count": 5,
   "metadata": {},
   "outputs": [],
   "source": [
    "def min_max_denormalize(normalized_data, min_value, max_value):\n",
    "    denormalized_data =  normalized_data * (max_value - min_value) + min_value\n",
    "    return denormalized_data"
   ]
  },
  {
   "cell_type": "code",
   "execution_count": 6,
   "metadata": {},
   "outputs": [
    {
     "name": "stdout",
     "output_type": "stream",
     "text": [
      "138.1000352\n"
     ]
    }
   ],
   "source": [
    "lat = min_max_denormalize(0.478774, 97.5, 182.3)\n",
    "print(lat)"
   ]
  }
 ],
 "metadata": {
  "kernelspec": {
   "display_name": "base",
   "language": "python",
   "name": "python3"
  },
  "language_info": {
   "codemirror_mode": {
    "name": "ipython",
    "version": 3
   },
   "file_extension": ".py",
   "mimetype": "text/x-python",
   "name": "python",
   "nbconvert_exporter": "python",
   "pygments_lexer": "ipython3",
   "version": "3.11.5"
  }
 },
 "nbformat": 4,
 "nbformat_minor": 2
}
