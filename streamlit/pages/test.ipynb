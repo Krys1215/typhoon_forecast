{
 "cells": [
  {
   "cell_type": "code",
   "execution_count": 1,
   "metadata": {},
   "outputs": [],
   "source": [
    "from data import Dataset"
   ]
  },
  {
   "cell_type": "code",
   "execution_count": 4,
   "metadata": {},
   "outputs": [
    {
     "data": {
      "text/plain": [
       "[[11.7, 146.5],\n",
       " [12.8, 145.5],\n",
       " [14.0, 144.2],\n",
       " [15.2, 143.1],\n",
       " [16.4, 141.6],\n",
       " [17.1, 140.5],\n",
       " [17.9, 139.5],\n",
       " [18.8, 138.2],\n",
       " [19.5, 136.7],\n",
       " [20.3, 135.4],\n",
       " [20.9, 134.0],\n",
       " [21.6, 132.9],\n",
       " [22.4, 131.4],\n",
       " [22.7, 130.8],\n",
       " [23.1, 130.1],\n",
       " [23.6, 129.3],\n",
       " [23.9, 128.4],\n",
       " [24.3, 127.6],\n",
       " [24.7, 126.9],\n",
       " [25.1, 126.1],\n",
       " [25.4, 125.3],\n",
       " [25.7, 124.4],\n",
       " [26.0, 123.7],\n",
       " [26.3, 123.0],\n",
       " [26.5, 122.5],\n",
       " [27.0, 121.2],\n",
       " [27.2, 120.0],\n",
       " [27.4, 118.7]]"
      ]
     },
     "execution_count": 4,
     "metadata": {},
     "output_type": "execute_result"
    }
   ],
   "source": [
    "ds = Dataset()\n",
    "df = ds.df\n",
    "ds.get_the_long_lat('0608')\n"
   ]
  }
 ],
 "metadata": {
  "kernelspec": {
   "display_name": "base",
   "language": "python",
   "name": "python3"
  },
  "language_info": {
   "codemirror_mode": {
    "name": "ipython",
    "version": 3
   },
   "file_extension": ".py",
   "mimetype": "text/x-python",
   "name": "python",
   "nbconvert_exporter": "python",
   "pygments_lexer": "ipython3",
   "version": "3.11.5"
  }
 },
 "nbformat": 4,
 "nbformat_minor": 2
}
